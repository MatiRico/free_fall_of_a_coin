{
 "cells": [
  {
   "cell_type": "markdown",
   "metadata": {
    "id": "UcKRnSiAUXRr"
   },
   "source": [
    "First of all, the libraries must be imported. In this case, I will use Numpy, Pandas, Seaborn and Matplotlib."
   ]
  },
  {
   "cell_type": "code",
   "execution_count": null,
   "metadata": {
    "id": "D8bJWhIDSWdj"
   },
   "outputs": [],
   "source": [
    "import pandas as pd\n",
    "import numpy as np\n",
    "import seaborn as sb\n",
    "import matplotlib.pyplot as plt"
   ]
  },
  {
   "cell_type": "markdown",
   "metadata": {
    "id": "SFhdz6yPU7Ur"
   },
   "source": [
    "Next, file reading. Notice that since the .csv file containd some unwanted characters, these have been removed. The file will be in this repository as well."
   ]
  },
  {
   "cell_type": "code",
   "execution_count": null,
   "metadata": {
    "colab": {
     "base_uri": "https://localhost:8080/",
     "height": 235
    },
    "id": "J3PNo2QYVF3U",
    "outputId": "0bb3fa18-dc6f-430a-e072-f6ccfc03e306"
   },
   "outputs": [
    {
     "ename": "NameError",
     "evalue": "ignored",
     "output_type": "error",
     "traceback": [
      "\u001b[0;31m---------------------------------------------------------------------------\u001b[0m",
      "\u001b[0;31mNameError\u001b[0m                                 Traceback (most recent call last)",
      "\u001b[0;32m<ipython-input-1-2fcb0647b65f>\u001b[0m in \u001b[0;36m<module>\u001b[0;34m()\u001b[0m\n\u001b[1;32m      1\u001b[0m \u001b[0;31m# File reading\u001b[0m\u001b[0;34m\u001b[0m\u001b[0;34m\u001b[0m\u001b[0;34m\u001b[0m\u001b[0m\n\u001b[0;32m----> 2\u001b[0;31m \u001b[0mdf\u001b[0m \u001b[0;34m=\u001b[0m \u001b[0mpd\u001b[0m\u001b[0;34m.\u001b[0m\u001b[0mread_csv\u001b[0m\u001b[0;34m(\u001b[0m\u001b[0;34m'caida_moneda_datos.csv'\u001b[0m\u001b[0;34m,\u001b[0m \u001b[0msep\u001b[0m \u001b[0;34m=\u001b[0m \u001b[0;34m','\u001b[0m\u001b[0;34m,\u001b[0m \u001b[0mdecimal\u001b[0m\u001b[0;34m=\u001b[0m\u001b[0;34m','\u001b[0m\u001b[0;34m)\u001b[0m\u001b[0;34m\u001b[0m\u001b[0;34m\u001b[0m\u001b[0m\n\u001b[0m\u001b[1;32m      3\u001b[0m \u001b[0mdf\u001b[0m \u001b[0;34m=\u001b[0m \u001b[0mdf\u001b[0m\u001b[0;34m[\u001b[0m\u001b[0;34m'T3'\u001b[0m\u001b[0;34m]\u001b[0m\u001b[0;34m.\u001b[0m\u001b[0mastype\u001b[0m\u001b[0;34m(\u001b[0m\u001b[0mfloat\u001b[0m\u001b[0;34m)\u001b[0m\u001b[0;34m\u001b[0m\u001b[0;34m\u001b[0m\u001b[0m\n\u001b[1;32m      4\u001b[0m \u001b[0mdf\u001b[0m \u001b[0;34m=\u001b[0m \u001b[0mdf\u001b[0m\u001b[0;34m.\u001b[0m\u001b[0msort_values\u001b[0m\u001b[0;34m(\u001b[0m\u001b[0mascending\u001b[0m\u001b[0;34m=\u001b[0m\u001b[0;32mTrue\u001b[0m\u001b[0;34m)\u001b[0m\u001b[0;34m\u001b[0m\u001b[0;34m\u001b[0m\u001b[0m\n\u001b[1;32m      5\u001b[0m \u001b[0mprint\u001b[0m\u001b[0;34m(\u001b[0m\u001b[0mdf\u001b[0m\u001b[0;34m)\u001b[0m\u001b[0;34m\u001b[0m\u001b[0;34m\u001b[0m\u001b[0m\n",
      "\u001b[0;31mNameError\u001b[0m: name 'pd' is not defined"
     ]
    }
   ],
   "source": [
    "# File reading\n",
    "df = pd.read_csv('caida_moneda_datos.csv', sep = ',', decimal=',')\n",
    "df = df['T3'].astype(float)\n",
    "df = df.sort_values(ascending=True)\n",
    "print(df)"
   ]
  },
  {
   "cell_type": "markdown",
   "metadata": {
    "id": "-y7EN2__K0J3"
   },
   "source": [
    "Next, it's a must the calculation of the range, determine the number of classes and the wide of each one of these."
   ]
  },
  {
   "cell_type": "code",
   "execution_count": null,
   "metadata": {
    "id": "wNgmiHy7K3PS"
   },
   "outputs": [],
   "source": [
    "# Range\n",
    "rango = df.max() - df.min()\n",
    "print('Este es el rango: ', rango)\n",
    "\n",
    "\n",
    "# Number of clases\n",
    "clases = 7\n",
    "\n",
    "\n",
    "# Wide of each class\n",
    "ancho = rango / clases\n",
    "print('Este es el ancho: ', ancho)"
   ]
  },
  {
   "cell_type": "markdown",
   "metadata": {
    "id": "-YnlDsB_K4xf"
   },
   "source": [
    "Next, each class has to be calculated. This algorithm is everything but effective, but it will do for now."
   ]
  },
  {
   "cell_type": "code",
   "execution_count": null,
   "metadata": {
    "id": "nKWnk7XUK7U5"
   },
   "outputs": [],
   "source": [
    "# Different classes creation\n",
    "for clases in df:\n",
    "\tclase1 = df.loc[0] + ancho\n",
    "\tprint('Esta es la clase 1: ', clase1)\n",
    "\tclase2 = clase1 + ancho\n",
    "\tprint('Esta es la clase 2: ', clase2)\n",
    "\tclase3 = clase2 + ancho\n",
    "\tprint('Esta es la clase 3: ', clase3)\n",
    "\tclase4 = clase3 + ancho\n",
    "\tprint('Esta es la clase 4: ', clase4)\n",
    "\tclase5 = clase4 + ancho\n",
    "\tprint('Esta es la clase 5: ', clase5)\n",
    "\tclase6 = clase5 + ancho\n",
    "\tprint('Esta es la clase 6: ', clase6)\n",
    "\tclase7 = clase6 + ancho\n",
    "\tprint('Esta es la clase 7: ', clase7)\n",
    "\tbreak"
   ]
  },
  {
   "cell_type": "markdown",
   "metadata": {
    "id": "vYhyhVIZK9PN"
   },
   "source": [
    "Now, the calculations to obtain the standard deviation, mean, mode and median values."
   ]
  },
  {
   "cell_type": "code",
   "execution_count": null,
   "metadata": {
    "colab": {
     "base_uri": "https://localhost:8080/",
     "height": 130
    },
    "id": "RByTi5X7LFE0",
    "outputId": "9c794f02-3760-4a91-cd06-62924419e4a0"
   },
   "outputs": [
    {
     "ename": "SyntaxError",
     "evalue": "ignored",
     "output_type": "error",
     "traceback": [
      "\u001b[0;36m  File \u001b[0;32m\"<ipython-input-2-123aac1d6822>\"\u001b[0;36m, line \u001b[0;32m2\u001b[0m\n\u001b[0;31m    def stand_deviation:\u001b[0m\n\u001b[0m                       ^\u001b[0m\n\u001b[0;31mSyntaxError\u001b[0m\u001b[0;31m:\u001b[0m invalid syntax\n"
     ]
    }
   ],
   "source": [
    "# Standard Deviation\n",
    "def stand_deviation:\n",
    "\tstd_deviation = numpy.std(df)\n",
    "\tprint('Este es el valor de la desviacion estandar: ', std_deviation)\n",
    "\n",
    "stand_deviation()\n",
    "\n",
    "# Average Value\n",
    "def mean_caida_moneda():\n",
    "\tmean_caida = df.mean()\n",
    "\tprint('Este es el valor medio del tiempo de caida de la moneda considerando los datos del cronometro 3: ', mean_caida)\n",
    "\n",
    "mean_caida_moneda()\t\n",
    "\n",
    "# Median\n",
    "def median_caida_moneda():\n",
    "\tmedian_caida = df.median()\n",
    "\tprint('Esta es la mediana del tiempo de caida de la moneda considerando los datos del cronometro 3: ', median_caida)\n",
    "\n",
    "median_caida_moneda()\n",
    "\n",
    "# Mode\n",
    "def mode_caida_moneda():\n",
    "\tmode_caida = df.mode()\n",
    "\tprint('Esta es la moda del tiempo de caida de la moneda considerando los datos del cronometro 3: ', mode_caida)\n",
    "\n",
    "mode_caida_moneda()"
   ]
  },
  {
   "cell_type": "markdown",
   "metadata": {
    "id": "qcMEKVtrLHW_"
   },
   "source": [
    "Last but not least, the histogram with the mean as shown."
   ]
  },
  {
   "cell_type": "code",
   "execution_count": null,
   "metadata": {
    "id": "nmhNoBUdLI46"
   },
   "outputs": [],
   "source": [
    "# Histogram\n",
    "def histograma():\n",
    "\t\n",
    "\tfig = sns.histplot(df, bins=7)\n",
    "\tplt.axvline(x=df.mean(),\n",
    "            color='red')\n",
    "\t\n",
    "\tfig.figure.savefig('histograma.png')\n",
    "\treturn fig\n",
    "\n",
    "histograma()"
   ]
  },
  {
   "cell_type": "markdown",
   "metadata": {
    "id": "_sjjO7j_LNTg"
   },
   "source": [
    "![histograma.png](data:image/png;base64,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)"
   ]
  },
  {
   "cell_type": "markdown",
   "metadata": {},
   "source": [
    "Actually, this is the last thing (I guess). We have to calculate the average speed for five random free fall times."
   ]
  },
  {
   "cell_type": "code",
   "execution_count": null,
   "metadata": {},
   "outputs": [],
   "source": [
    "# Speed with five free fall random times\n",
    "def velocidad():\n",
    "\tspeed_list = df.sample(5) # Picks up five different random values from df\n",
    "\tprint(speed_list)\n",
    "\tspeed = 2/speed_list # Returns speed for each different fall time\n",
    "\tprint(speed)\n",
    "\t\n",
    "velocidad()"
   ]
  }
 ],
 "metadata": {
  "colab": {
   "collapsed_sections": [],
   "name": "Free fall of a coin.ipynb",
   "provenance": []
  },
  "kernelspec": {
   "display_name": "Python 3 (ipykernel)",
   "language": "python",
   "name": "python3"
  },
  "language_info": {
   "codemirror_mode": {
    "name": "ipython",
    "version": 3
   },
   "file_extension": ".py",
   "mimetype": "text/x-python",
   "name": "python",
   "nbconvert_exporter": "python",
   "pygments_lexer": "ipython3",
   "version": "3.10.0"
  }
 },
 "nbformat": 4,
 "nbformat_minor": 1
}
